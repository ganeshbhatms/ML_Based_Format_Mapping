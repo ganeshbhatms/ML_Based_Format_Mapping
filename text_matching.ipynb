{
 "cells": [
  {
   "cell_type": "code",
   "execution_count": 1,
   "metadata": {},
   "outputs": [],
   "source": [
    "import pandas as pd\n",
    "import numpy as np\n",
    "\n",
    "from sklearn.feature_extraction.text import CountVectorizer\n",
    "from sklearn.feature_extraction.text import TfidfTransformer\n",
    "from sklearn.preprocessing import LabelEncoder\n",
    "\n",
    "import re\n",
    "import string"
   ]
  },
  {
   "cell_type": "code",
   "execution_count": 2,
   "metadata": {},
   "outputs": [],
   "source": [
    "#remove = string.punctuation\n",
    "#remove = remove.replace(\"-\", \"\") # don't remove hyphens\n",
    "#pattern = r\"[{}]\".format(remove) # create the pattern\n",
    "def correction(sourceFieldRow:str, correction:str):\n",
    "    trainData.loc[trainData['sourceField']==sourceFieldRow,'targetField'] = correction\n",
    "\n",
    "def Append(List1,List2):\n",
    "    for item in List2:\n",
    "        List1.append(item)\n",
    "\n",
    "def normalize(text):\n",
    "    return [word for word in text.lower()]\n",
    "\n",
    "def ngrams(string, n=2):\n",
    "    #string = re.sub(pattern,r' ', string)\n",
    "    ngrams = zip(*[string[i:] for i in range(n)])\n",
    "    return [''.join(ngram) for ngram in ngrams]\n",
    "\n",
    "\n",
    "def cosine_sim(text1, text2):\n",
    "    cos = dict()\n",
    "    count_vect = CountVectorizer(analyzer=ngrams)\n",
    "    tfidf_transformer = TfidfTransformer()\n",
    "    \n",
    "    for i in range(len(text2)):\n",
    "        targetText = text2[i].lower()\n",
    "        sourceText = text1.lower()\n",
    "        vec1 = [sourceText, targetText]\n",
    "        vec2 = count_vect.fit_transform(vec1)\n",
    "        tfidf = tfidf_transformer.fit_transform(vec2)\n",
    "        similarity = ((tfidf * tfidf.T).A)[0,1]\n",
    "        cos.update({text2[i]:similarity})\n",
    "    return [max(cos, key=cos.get), round(max(cos.values())*100)]"
   ]
  },
  {
   "cell_type": "markdown",
   "metadata": {},
   "source": [
    "# Supervised mode "
   ]
  },
  {
   "cell_type": "markdown",
   "metadata": {},
   "source": [
    "### Initial empty training Dataframe"
   ]
  },
  {
   "cell_type": "code",
   "execution_count": 3,
   "metadata": {},
   "outputs": [],
   "source": [
    "trainData = pd.DataFrame(columns=['sourceField'])\n",
    "targetData = []"
   ]
  },
  {
   "cell_type": "markdown",
   "metadata": {},
   "source": [
    "### Importing dataset for training"
   ]
  },
  {
   "cell_type": "code",
   "execution_count": 4,
   "metadata": {},
   "outputs": [
    {
     "name": "stdin",
     "output_type": "stream",
     "text": [
      "Enter the file path:  train1.json\n"
     ]
    }
   ],
   "source": [
    "path = input('Enter the file path: ' )\n",
    "importDtata = pd.read_json(path)\n",
    "sourceFormateField = pd.DataFrame(importDtata.loc[\"formatFields\",'source'],columns=[\"sourceField\"])\n",
    "targetFormateField = importDtata.loc[\"formatFields\",'target']\n",
    "trainData = trainData.append(sourceFormateField, ignore_index=True)\n",
    "Append(targetData,targetFormateField)"
   ]
  },
  {
   "cell_type": "markdown",
   "metadata": {},
   "source": [
    "### String matching"
   ]
  },
  {
   "cell_type": "code",
   "execution_count": 5,
   "metadata": {},
   "outputs": [],
   "source": [
    "trainData['targetField'],trainData['confidence']= zip(*trainData['sourceField'].apply(lambda x: cosine_sim(x, targetData)))"
   ]
  },
  {
   "cell_type": "markdown",
   "metadata": {},
   "source": [
    "### Correcting the output of string matching"
   ]
  },
  {
   "cell_type": "code",
   "execution_count": null,
   "metadata": {},
   "outputs": [],
   "source": [
    "# Only if needed\n",
    "correction('PO #','poReference')\n",
    "correction('Inv #','invoiceReference')\n",
    "_,trainData['confidence']= zip(*trainData['sourceField'].apply(lambda x: cosine_sim(x, trainData['targetField'])))"
   ]
  },
  {
   "cell_type": "code",
   "execution_count": null,
   "metadata": {},
   "outputs": [],
   "source": [
    "trainData.to_json('result.json', orient='records')"
   ]
  },
  {
   "cell_type": "markdown",
   "metadata": {},
   "source": [
    "### Label Encoder"
   ]
  },
  {
   "cell_type": "code",
   "execution_count": 17,
   "metadata": {},
   "outputs": [],
   "source": [
    "le = LabelEncoder()\n",
    "encode = le.fit_transform(trainData['sourceField'])"
   ]
  },
  {
   "cell_type": "code",
   "execution_count": 27,
   "metadata": {},
   "outputs": [],
   "source": [
    "count_vect = CountVectorizer(analyzer=ngrams)\n",
    "X_train_counts = count_vect.fit_transform(trainData['targetField'])\n",
    "tfidf_transformer = TfidfTransformer()\n",
    "X_train_tfidf = tfidf_transformer.fit_transform(X_train_counts)"
   ]
  },
  {
   "cell_type": "markdown",
   "metadata": {},
   "source": [
    "### KNN Classifier"
   ]
  },
  {
   "cell_type": "code",
   "execution_count": 30,
   "metadata": {},
   "outputs": [],
   "source": [
    "from sklearn.neighbors import KNeighborsClassifier\n",
    "knn = KNeighborsClassifier(n_neighbors=1)\n",
    "clf = knn.fit(X_train_tfidf, encode)\n",
    "docs_new = [\"invdt\"]\n",
    "X_new_counts = count_vect.transform(docs_new)\n",
    "X_new_tfidf = tfidf_transformer.transform(X_new_counts)"
   ]
  },
  {
   "cell_type": "markdown",
   "metadata": {},
   "source": [
    "### Prediction"
   ]
  },
  {
   "cell_type": "code",
   "execution_count": 31,
   "metadata": {},
   "outputs": [
    {
     "name": "stdout",
     "output_type": "stream",
     "text": [
      "['INVOICE_DATE']\n"
     ]
    }
   ],
   "source": [
    "predicted = clf.predict(X_new_tfidf)\n",
    "print(le.inverse_transform([int(predicted)]))"
   ]
  },
  {
   "cell_type": "markdown",
   "metadata": {},
   "source": [
    "# Unsupervised mode "
   ]
  },
  {
   "cell_type": "code",
   "execution_count": 34,
   "metadata": {},
   "outputs": [
    {
     "name": "stdin",
     "output_type": "stream",
     "text": [
      "Enter the file path:  learn.json\n"
     ]
    }
   ],
   "source": [
    "path = input('Enter the file path: ' ) #sample.json\n",
    "trainData= pd.read_json('learn.json',orient='records')"
   ]
  },
  {
   "cell_type": "markdown",
   "metadata": {},
   "source": [
    "### String matching"
   ]
  },
  {
   "cell_type": "code",
   "execution_count": 32,
   "metadata": {},
   "outputs": [],
   "source": [
    "trainData['targetField'],trainData['confidence']= zip(*trainData['sourceField'].apply(lambda x: cosine_sim(x, trainData['targetField'])))"
   ]
  },
  {
   "cell_type": "markdown",
   "metadata": {},
   "source": [
    "### Label Encoder"
   ]
  },
  {
   "cell_type": "code",
   "execution_count": 33,
   "metadata": {},
   "outputs": [],
   "source": [
    "le = LabelEncoder()\n",
    "encode = le.fit_transform(trainData['sourceField'])"
   ]
  },
  {
   "cell_type": "code",
   "execution_count": 36,
   "metadata": {},
   "outputs": [],
   "source": [
    "count_vect = CountVectorizer(analyzer=ngrams)\n",
    "X_train_counts = count_vect.fit_transform(trainData['targetField'])\n",
    "tfidf_transformer = TfidfTransformer()\n",
    "X_train_tfidf = tfidf_transformer.fit_transform(X_train_counts)"
   ]
  },
  {
   "cell_type": "markdown",
   "metadata": {},
   "source": [
    "### KNN classifier"
   ]
  },
  {
   "cell_type": "code",
   "execution_count": 41,
   "metadata": {},
   "outputs": [],
   "source": [
    "from sklearn.neighbors import KNeighborsClassifier\n",
    "knn = KNeighborsClassifier(n_neighbors=1)\n",
    "clf = knn.fit(X_train_tfidf, encode)\n",
    "docs_new = [\"ivodate\"]\n",
    "X_new_counts = count_vect.transform(docs_new)\n",
    "X_new_tfidf = tfidf_transformer.transform(X_new_counts)"
   ]
  },
  {
   "cell_type": "markdown",
   "metadata": {},
   "source": [
    "### Prediction"
   ]
  },
  {
   "cell_type": "code",
   "execution_count": 43,
   "metadata": {},
   "outputs": [
    {
     "name": "stdout",
     "output_type": "stream",
     "text": [
      "['INVOICE_DATE']\n"
     ]
    }
   ],
   "source": [
    "predicted = clf.predict(X_new_tfidf)\n",
    "print(le.inverse_transform([int(predicted)]))"
   ]
  },
  {
   "cell_type": "code",
   "execution_count": null,
   "metadata": {},
   "outputs": [],
   "source": []
  }
 ],
 "metadata": {
  "kernelspec": {
   "display_name": "Python 3",
   "language": "python",
   "name": "python3"
  },
  "language_info": {
   "codemirror_mode": {
    "name": "ipython",
    "version": 3
   },
   "file_extension": ".py",
   "mimetype": "text/x-python",
   "name": "python",
   "nbconvert_exporter": "python",
   "pygments_lexer": "ipython3",
   "version": "3.8.3"
  }
 },
 "nbformat": 4,
 "nbformat_minor": 4
}
