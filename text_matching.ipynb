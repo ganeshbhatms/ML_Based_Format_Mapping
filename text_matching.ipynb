{
 "cells": [
  {
   "cell_type": "code",
   "execution_count": 1,
   "metadata": {},
   "outputs": [],
   "source": [
    "import pandas as pd\n",
    "import numpy as np\n",
    "\n",
    "from sklearn.feature_extraction.text import CountVectorizer\n",
    "from sklearn.feature_extraction.text import TfidfTransformer\n",
    "from sklearn.preprocessing import LabelEncoder\n",
    "\n",
    "import re\n",
    "import string"
   ]
  },
  {
   "cell_type": "code",
   "execution_count": 2,
   "metadata": {},
   "outputs": [],
   "source": [
    "#remove = string.punctuation\n",
    "#remove = remove.replace(\"-\", \"\") # don't remove hyphens\n",
    "#pattern = r\"[{}]\".format(remove) # create the pattern\n",
    "def correction(sourceFieldRow:str, correction:str):\n",
    "    trainData.loc[trainData['sourceField']==sourceFieldRow,'targetField'] = correction\n",
    "\n",
    "def Append(List1,List2):\n",
    "    for item in List2:\n",
    "        List1.append(item)\n",
    "\n",
    "def normalize(text):\n",
    "    return [word for word in text.lower()]\n",
    "\n",
    "def ngrams(string, n=2):\n",
    "    #string = re.sub(pattern,r' ', string)\n",
    "    ngrams = zip(*[string[i:] for i in range(n)])\n",
    "    return [''.join(ngram) for ngram in ngrams]\n",
    "\n",
    "\n",
    "def cosine_sim(text1, text2):\n",
    "    cos = dict()\n",
    "    count_vect = CountVectorizer(analyzer=ngrams)\n",
    "    tfidf_transformer = TfidfTransformer()\n",
    "    \n",
    "    for i in range(len(text2)):\n",
    "        targetText = text2[i].lower()\n",
    "        sourceText = text1.lower()\n",
    "        vec1 = [sourceText, targetText]\n",
    "        vec2 = count_vect.fit_transform(vec1)\n",
    "        tfidf = tfidf_transformer.fit_transform(vec2)\n",
    "        similarity = ((tfidf * tfidf.T).A)[0,1]\n",
    "        cos.update({text2[i]:similarity})\n",
    "    return [max(cos, key=cos.get), round(max(cos.values())*100)]"
   ]
  },
  {
   "cell_type": "markdown",
   "metadata": {},
   "source": [
    "# Supervised mode "
   ]
  },
  {
   "cell_type": "markdown",
   "metadata": {},
   "source": [
    "### Initial empty training Dataframe"
   ]
  },
  {
   "cell_type": "code",
   "execution_count": 3,
   "metadata": {},
   "outputs": [],
   "source": [
    "trainData = pd.DataFrame(columns=['sourceField'])\n",
    "targetData = []"
   ]
  },
  {
   "cell_type": "markdown",
   "metadata": {},
   "source": [
    "### Importing dataset for training"
   ]
  },
  {
   "cell_type": "code",
   "execution_count": 4,
   "metadata": {},
   "outputs": [
    {
     "name": "stdin",
     "output_type": "stream",
     "text": [
      "Enter the file path:  train1.json\n"
     ]
    }
   ],
   "source": [
    "path = input('Enter the file path: ' )\n",
    "importDtata = pd.read_json(path)\n",
    "sourceFormateField = pd.DataFrame(importDtata.loc[\"formatFields\",'source'],columns=[\"sourceField\"])\n",
    "targetFormateField = importDtata.loc[\"formatFields\",'target']\n",
    "trainData = trainData.append(sourceFormateField, ignore_index=True)\n",
    "Append(targetData,targetFormateField)"
   ]
  },
  {
   "cell_type": "markdown",
   "metadata": {},
   "source": [
    "### String matching"
   ]
  },
  {
   "cell_type": "code",
   "execution_count": 5,
   "metadata": {},
   "outputs": [],
   "source": [
    "trainData['targetField'],trainData['confidence']= zip(*trainData['sourceField'].apply(lambda x: cosine_sim(x, targetData)))"
   ]
  },
  {
   "cell_type": "code",
   "execution_count": 6,
   "metadata": {},
   "outputs": [
    {
     "data": {
      "text/html": [
       "<div>\n",
       "<style scoped>\n",
       "    .dataframe tbody tr th:only-of-type {\n",
       "        vertical-align: middle;\n",
       "    }\n",
       "\n",
       "    .dataframe tbody tr th {\n",
       "        vertical-align: top;\n",
       "    }\n",
       "\n",
       "    .dataframe thead th {\n",
       "        text-align: right;\n",
       "    }\n",
       "</style>\n",
       "<table border=\"1\" class=\"dataframe\">\n",
       "  <thead>\n",
       "    <tr style=\"text-align: right;\">\n",
       "      <th></th>\n",
       "      <th>sourceField</th>\n",
       "      <th>targetField</th>\n",
       "      <th>confidence</th>\n",
       "    </tr>\n",
       "  </thead>\n",
       "  <tbody>\n",
       "    <tr>\n",
       "      <th>0</th>\n",
       "      <td>BATCH_REFERENCE</td>\n",
       "      <td>batchReference</td>\n",
       "      <td>67.0</td>\n",
       "    </tr>\n",
       "    <tr>\n",
       "      <th>1</th>\n",
       "      <td>TRANSACTION_REFERENCE</td>\n",
       "      <td>transactionReference</td>\n",
       "      <td>77.0</td>\n",
       "    </tr>\n",
       "    <tr>\n",
       "      <th>2</th>\n",
       "      <td>BUYER_NAME</td>\n",
       "      <td>buyerName</td>\n",
       "      <td>51.0</td>\n",
       "    </tr>\n",
       "    <tr>\n",
       "      <th>3</th>\n",
       "      <td>SUPPLIER_NAME</td>\n",
       "      <td>supplierName</td>\n",
       "      <td>62.0</td>\n",
       "    </tr>\n",
       "    <tr>\n",
       "      <th>4</th>\n",
       "      <td>INVOICE_REFERENCE</td>\n",
       "      <td>invoiceReference</td>\n",
       "      <td>75.0</td>\n",
       "    </tr>\n",
       "    <tr>\n",
       "      <th>5</th>\n",
       "      <td>PO_REFERENCE</td>\n",
       "      <td>poReference</td>\n",
       "      <td>59.0</td>\n",
       "    </tr>\n",
       "    <tr>\n",
       "      <th>6</th>\n",
       "      <td>INVOICE_DATE</td>\n",
       "      <td>invoiceDate</td>\n",
       "      <td>59.0</td>\n",
       "    </tr>\n",
       "    <tr>\n",
       "      <th>7</th>\n",
       "      <td>INVOICE_AMOUNT</td>\n",
       "      <td>invoiceAmount</td>\n",
       "      <td>65.0</td>\n",
       "    </tr>\n",
       "    <tr>\n",
       "      <th>8</th>\n",
       "      <td>INVOICE_CURRENCY</td>\n",
       "      <td>invoiceCurrency</td>\n",
       "      <td>69.0</td>\n",
       "    </tr>\n",
       "    <tr>\n",
       "      <th>9</th>\n",
       "      <td>MATURITY_DATE</td>\n",
       "      <td>maturityDate</td>\n",
       "      <td>62.0</td>\n",
       "    </tr>\n",
       "    <tr>\n",
       "      <th>10</th>\n",
       "      <td>PAYMENT_DATE</td>\n",
       "      <td>paymentDate</td>\n",
       "      <td>59.0</td>\n",
       "    </tr>\n",
       "    <tr>\n",
       "      <th>11</th>\n",
       "      <td>TENOR</td>\n",
       "      <td>tenor</td>\n",
       "      <td>100.0</td>\n",
       "    </tr>\n",
       "    <tr>\n",
       "      <th>12</th>\n",
       "      <td>NET_AMOUNT</td>\n",
       "      <td>netAmount</td>\n",
       "      <td>51.0</td>\n",
       "    </tr>\n",
       "    <tr>\n",
       "      <th>13</th>\n",
       "      <td>GROSS_AMOUNT</td>\n",
       "      <td>grossAmount</td>\n",
       "      <td>59.0</td>\n",
       "    </tr>\n",
       "    <tr>\n",
       "      <th>14</th>\n",
       "      <td>DISCOUNT_AMOUNT</td>\n",
       "      <td>discountAmount</td>\n",
       "      <td>74.0</td>\n",
       "    </tr>\n",
       "    <tr>\n",
       "      <th>15</th>\n",
       "      <td>ADJUSTMENT_AMOUNT</td>\n",
       "      <td>adjustmentAmount</td>\n",
       "      <td>71.0</td>\n",
       "    </tr>\n",
       "    <tr>\n",
       "      <th>16</th>\n",
       "      <td>ADJUSTMENT_REASON_CODE</td>\n",
       "      <td>adjustmentReasonCode</td>\n",
       "      <td>59.0</td>\n",
       "    </tr>\n",
       "    <tr>\n",
       "      <th>17</th>\n",
       "      <td>PAYMENT_TERM</td>\n",
       "      <td>paymentTerm</td>\n",
       "      <td>59.0</td>\n",
       "    </tr>\n",
       "    <tr>\n",
       "      <th>18</th>\n",
       "      <td>STATUS</td>\n",
       "      <td>status</td>\n",
       "      <td>100.0</td>\n",
       "    </tr>\n",
       "    <tr>\n",
       "      <th>19</th>\n",
       "      <td>NOTES</td>\n",
       "      <td>notes</td>\n",
       "      <td>100.0</td>\n",
       "    </tr>\n",
       "  </tbody>\n",
       "</table>\n",
       "</div>"
      ],
      "text/plain": [
       "               sourceField           targetField  confidence\n",
       "0          BATCH_REFERENCE        batchReference        67.0\n",
       "1    TRANSACTION_REFERENCE  transactionReference        77.0\n",
       "2               BUYER_NAME             buyerName        51.0\n",
       "3            SUPPLIER_NAME          supplierName        62.0\n",
       "4        INVOICE_REFERENCE      invoiceReference        75.0\n",
       "5             PO_REFERENCE           poReference        59.0\n",
       "6             INVOICE_DATE           invoiceDate        59.0\n",
       "7           INVOICE_AMOUNT         invoiceAmount        65.0\n",
       "8         INVOICE_CURRENCY       invoiceCurrency        69.0\n",
       "9            MATURITY_DATE          maturityDate        62.0\n",
       "10            PAYMENT_DATE           paymentDate        59.0\n",
       "11                   TENOR                 tenor       100.0\n",
       "12              NET_AMOUNT             netAmount        51.0\n",
       "13            GROSS_AMOUNT           grossAmount        59.0\n",
       "14         DISCOUNT_AMOUNT        discountAmount        74.0\n",
       "15       ADJUSTMENT_AMOUNT      adjustmentAmount        71.0\n",
       "16  ADJUSTMENT_REASON_CODE  adjustmentReasonCode        59.0\n",
       "17            PAYMENT_TERM           paymentTerm        59.0\n",
       "18                  STATUS                status       100.0\n",
       "19                   NOTES                 notes       100.0"
      ]
     },
     "execution_count": 6,
     "metadata": {},
     "output_type": "execute_result"
    }
   ],
   "source": [
    "trainData"
   ]
  },
  {
   "cell_type": "markdown",
   "metadata": {},
   "source": [
    "### Correcting the output of string matching"
   ]
  },
  {
   "cell_type": "code",
   "execution_count": null,
   "metadata": {},
   "outputs": [],
   "source": [
    "# Only if needed\n",
    "correction('PO #','poReference')\n",
    "correction('Inv #','invoiceReference')\n",
    "_,trainData['confidence']= zip(*trainData['sourceField'].apply(lambda x: cosine_sim(x, trainData['targetField'])))"
   ]
  },
  {
   "cell_type": "code",
   "execution_count": null,
   "metadata": {},
   "outputs": [],
   "source": [
    "trainData.to_json('result.json', orient='records')"
   ]
  },
  {
   "cell_type": "markdown",
   "metadata": {},
   "source": [
    "### Label Encoder"
   ]
  },
  {
   "cell_type": "code",
   "execution_count": 17,
   "metadata": {},
   "outputs": [],
   "source": [
    "le = LabelEncoder()\n",
    "encode = le.fit_transform(trainData['sourceField'])"
   ]
  },
  {
   "cell_type": "code",
   "execution_count": 27,
   "metadata": {},
   "outputs": [],
   "source": [
    "count_vect = CountVectorizer(analyzer=ngrams)\n",
    "X_train_counts = count_vect.fit_transform(trainData['targetField'])\n",
    "tfidf_transformer = TfidfTransformer()\n",
    "X_train_tfidf = tfidf_transformer.fit_transform(X_train_counts)"
   ]
  },
  {
   "cell_type": "markdown",
   "metadata": {},
   "source": [
    "### logistic regression"
   ]
  },
  {
   "cell_type": "code",
   "execution_count": 30,
   "metadata": {},
   "outputs": [],
   "source": [
    "from sklearn.neighbors import KNeighborsClassifier\n",
    "knn = KNeighborsClassifier(n_neighbors=1)\n",
    "clf = knn.fit(X_train_tfidf, encode)\n",
    "docs_new = [\"invdt\"]\n",
    "X_new_counts = count_vect.transform(docs_new)\n",
    "X_new_tfidf = tfidf_transformer.transform(X_new_counts)"
   ]
  },
  {
   "cell_type": "markdown",
   "metadata": {},
   "source": [
    "### Prediction"
   ]
  },
  {
   "cell_type": "code",
   "execution_count": 31,
   "metadata": {},
   "outputs": [
    {
     "name": "stdout",
     "output_type": "stream",
     "text": [
      "['INVOICE_DATE']\n"
     ]
    }
   ],
   "source": [
    "predicted = clf.predict(X_new_tfidf)\n",
    "print(le.inverse_transform([int(predicted)]))"
   ]
  },
  {
   "cell_type": "markdown",
   "metadata": {},
   "source": [
    "# Unsupervised mode "
   ]
  },
  {
   "cell_type": "code",
   "execution_count": 34,
   "metadata": {},
   "outputs": [
    {
     "name": "stdin",
     "output_type": "stream",
     "text": [
      "Enter the file path:  learn.json\n"
     ]
    }
   ],
   "source": [
    "path = input('Enter the file path: ' ) #sample.json\n",
    "trainData= pd.read_json('learn.json',orient='records')"
   ]
  },
  {
   "cell_type": "markdown",
   "metadata": {},
   "source": [
    "### String matching"
   ]
  },
  {
   "cell_type": "code",
   "execution_count": 32,
   "metadata": {},
   "outputs": [],
   "source": [
    "trainData['targetField'],trainData['confidence']= zip(*trainData['sourceField'].apply(lambda x: cosine_sim(x, trainData['targetField'])))"
   ]
  },
  {
   "cell_type": "markdown",
   "metadata": {},
   "source": [
    "### Label Encoder"
   ]
  },
  {
   "cell_type": "code",
   "execution_count": 33,
   "metadata": {},
   "outputs": [],
   "source": [
    "le = LabelEncoder()\n",
    "encode = le.fit_transform(trainData['sourceField'])"
   ]
  },
  {
   "cell_type": "code",
   "execution_count": 36,
   "metadata": {},
   "outputs": [],
   "source": [
    "count_vect = CountVectorizer(analyzer=ngrams)\n",
    "X_train_counts = count_vect.fit_transform(trainData['targetField'])\n",
    "tfidf_transformer = TfidfTransformer()\n",
    "X_train_tfidf = tfidf_transformer.fit_transform(X_train_counts)"
   ]
  },
  {
   "cell_type": "markdown",
   "metadata": {},
   "source": [
    "### KNN classifier"
   ]
  },
  {
   "cell_type": "code",
   "execution_count": 41,
   "metadata": {},
   "outputs": [],
   "source": [
    "from sklearn.neighbors import KNeighborsClassifier\n",
    "knn = KNeighborsClassifier(n_neighbors=1)\n",
    "clf = knn.fit(X_train_tfidf, encode)\n",
    "docs_new = [\"ivodate\"]\n",
    "X_new_counts = count_vect.transform(docs_new)\n",
    "X_new_tfidf = tfidf_transformer.transform(X_new_counts)"
   ]
  },
  {
   "cell_type": "markdown",
   "metadata": {},
   "source": [
    "### Prediction"
   ]
  },
  {
   "cell_type": "code",
   "execution_count": 43,
   "metadata": {},
   "outputs": [
    {
     "name": "stdout",
     "output_type": "stream",
     "text": [
      "['INVOICE_DATE']\n"
     ]
    }
   ],
   "source": [
    "predicted = clf.predict(X_new_tfidf)\n",
    "print(le.inverse_transform([int(predicted)]))"
   ]
  },
  {
   "cell_type": "code",
   "execution_count": null,
   "metadata": {},
   "outputs": [],
   "source": []
  }
 ],
 "metadata": {
  "kernelspec": {
   "display_name": "Python 3",
   "language": "python",
   "name": "python3"
  },
  "language_info": {
   "codemirror_mode": {
    "name": "ipython",
    "version": 3
   },
   "file_extension": ".py",
   "mimetype": "text/x-python",
   "name": "python",
   "nbconvert_exporter": "python",
   "pygments_lexer": "ipython3",
   "version": "3.8.3"
  }
 },
 "nbformat": 4,
 "nbformat_minor": 4
}
